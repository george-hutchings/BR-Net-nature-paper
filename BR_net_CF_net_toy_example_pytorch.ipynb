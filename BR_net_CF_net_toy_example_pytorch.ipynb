{
  "cells": [
    {
      "cell_type": "code",
      "execution_count": 1,
      "metadata": {
        "colab": {
          "base_uri": "https://localhost:8080/"
        },
        "id": "XFyz9zm0NNBj",
        "outputId": "66221840-9481-48fc-aca7-7cc237ad5e3d"
      },
      "outputs": [
        {
          "name": "stderr",
          "output_type": "stream",
          "text": [
            "2024-02-09 20:49:57.857481: I tensorflow/core/platform/cpu_feature_guard.cc:193] This TensorFlow binary is optimized with oneAPI Deep Neural Network Library (oneDNN) to use the following CPU instructions in performance-critical operations:  SSE4.1 SSE4.2 AVX AVX2 AVX512F AVX512_VNNI FMA\n",
            "To enable them in other operations, rebuild TensorFlow with the appropriate compiler flags.\n"
          ]
        }
      ],
      "source": [
        "from __future__ import absolute_import\n",
        "from __future__ import division\n",
        "from __future__ import print_function\n",
        "\n",
        "from keras.models import Sequential, Model\n",
        "from keras.layers import Activation, Dense, Flatten, Input, Layer, MaxPooling2D, Conv2D, Reshape\n",
        "from keras.losses import binary_crossentropy\n",
        "from keras import backend as K\n",
        "from keras.optimizers import Adam\n",
        "\n",
        "import tensorflow as tf\n",
        "import numpy as np\n",
        "import scipy.stats as st\n",
        "from visualization_functions import *\n",
        "import itertools\n",
        "import statsmodels.api as sm\n",
        "from sklearn.linear_model import LinearRegression\n",
        "import seaborn as sns\n",
        "import pandas as pd\n",
        "\n",
        "import time\n",
        "\n",
        "import sys\n",
        "import argparse\n",
        "import os\n",
        "import glob\n",
        "\n",
        "import matplotlib\n",
        "import matplotlib.pyplot as plt\n",
        "\n",
        "import dcor\n",
        "\n",
        "import torch\n",
        "import torch.nn as nn\n",
        "import torch.optim as optim\n",
        "import numpy as np"
      ]
    },
    {
      "cell_type": "markdown",
      "metadata": {
        "id": "VCtnKdW7NNBj"
      },
      "source": [
        "# Simulating Synthetic Images\n",
        "The training images of two groups are simulated. Each image contains 4 Gaussian distribution density functions. Let the 4 standard deviations be\n",
        "\n",
        "|  $\\sigma_A$ | $\\sigma_B$  |\n",
        "\n",
        "|  $\\sigma_B$ | $\\sigma_A$  |\n",
        "\n",
        "The 4 Gaussians are constructed such that\n",
        "\n",
        "1. height of the two diagonal Gaussians $\\sigma_A$ is linked to a factor of interest $mf$ (e.g. true effect between two classes)\n",
        "2. height of the two off-diagonal Gaussians $\\sigma_B$ is linked to two different confounding factors $cf$."
      ]
    },
    {
      "cell_type": "code",
      "execution_count": 2,
      "metadata": {
        "colab": {
          "base_uri": "https://localhost:8080/",
          "height": 406
        },
        "id": "G9uO_fA9NNBk",
        "outputId": "d230fb53-d0a2-4767-acde-6bd5ac48e170"
      },
      "outputs": [
        {
          "data": {
            "image/png": "[encoded data removed]",
            "text/plain": [
              "<Figure size 640x480 with 2 Axes>"
            ]
          },
          "metadata": {},
          "output_type": "display_data"
        }
      ],
      "source": [
        "## Simulate Data\n",
        "np.random.seed(1)\n",
        "\n",
        "N = 2**10 # number of subjects in a group\n",
        "labels = np.zeros((N*2,))\n",
        "labels[N:] = 1\n",
        "\n",
        "# 2 confounding effects between 2 groups\n",
        "cf = np.zeros((N*2,))\n",
        "cf[:N] = np.random.uniform(1,4,size=N)\n",
        "cf[N:] = np.random.uniform(3,6,size=N)\n",
        "\n",
        "# 2 major effects between 2 groups\n",
        "mf = np.zeros((N*2,))\n",
        "mf[:N] = np.random.uniform(1,4,size=N)\n",
        "mf[N:] = np.random.uniform(3,6,size=N)\n",
        "\n",
        "# simulate images\n",
        "x = np.zeros((N*2,32,32,1))\n",
        "y = np.zeros((N*2,))\n",
        "y[N:] = 1\n",
        "for i in range(N*2):\n",
        "    x[i,:16,:16,0] = gkern(kernlen=16, nsig=5)*mf[i]\n",
        "    x[i,16:,:16,0] = gkern(kernlen=16, nsig=5)*cf[i]\n",
        "    x[i,:16,16:,0] = gkern(kernlen=16, nsig=5)*cf[i]\n",
        "    x[i,16:,16:,0] = gkern(kernlen=16, nsig=5)*mf[i]\n",
        "    x[i] = x[i] + np.random.normal(0,0.01,size=(32,32,1))\n",
        "\n",
        "plt.imshow(x[1,:,:,0],cmap='gray')\n",
        "plt.colorbar()\n",
        "#plt.title(\"a synthetic training image\");\n",
        "plt.xticks(np.arange(0), ())\n",
        "plt.yticks(np.arange(0), ())\n",
        "plt.savefig('synthetic_sample.jpg', format='jpg', dpi=300)"
      ]
    },
    {
      "cell_type": "markdown",
      "metadata": {
        "id": "2lhCdJbBNNBl"
      },
      "source": [
        "# Training BR-Net"
      ]
    },
    {
      "cell_type": "code",
      "execution_count": 3,
      "metadata": {
        "id": "bM4HxpBiNNBl"
      },
      "outputs": [],
      "source": [
        "\n",
        "# Adversarial loss for squared correlation\n",
        "def lossb_calc(y_true, y_pred):\n",
        "    x = y_true\n",
        "    y = y_pred\n",
        "    mx = torch.mean(x)\n",
        "    my = torch.mean(y)\n",
        "    xm, ym = x - mx, y - my\n",
        "    r_num = torch.sum(torch.mul(xm, ym))\n",
        "    r_den = torch.sqrt(torch.mul(torch.sum(torch.square(xm)), torch.sum(torch.square(ym)))) + 1e-5\n",
        "    r = r_num / r_den\n",
        "\n",
        "    r = torch.clamp(r, min=-1.0, max=1.0)\n",
        "    return -torch.square(r)\n",
        "\n",
        "# Adversarial loss for mse\n",
        "def inv_mse(y_true, y_pred):\n",
        "    mse_value = torch.sum(torch.square(y_true - y_pred))\n",
        "    return -mse_value\n",
        "\n",
        "lossp_calc = torch.nn.BCELoss()\n",
        "#lossb_calc = torch.nn.MSELoss()\n",
        "\n",
        "lossb_adverseral_calc = torch.nn.MSELoss()\n"
      ]
    },
    {
      "cell_type": "code",
      "execution_count": 4,
      "metadata": {
        "id": "0E30Z1DiNNBl"
      },
      "outputs": [],
      "source": [
        "from torch.utils.data import Dataset\n",
        "class MyDataset(Dataset):\n",
        "    def __init__(self, data, label, confounders):\n",
        "        self.data = data\n",
        "        self.label = label\n",
        "        self.confounders = confounders\n",
        "    def __getitem__(self, index):\n",
        "        return self.data[index], self.label[index], self.confounders[index]\n",
        "    def __len__(self):\n",
        "        return len(self.label)"
      ]
    },
    {
      "cell_type": "code",
      "execution_count": 5,
      "metadata": {
        "id": "xMbZa2EnNNBl"
      },
      "outputs": [],
      "source": [
        "batch_size = 128\n",
        "train_propotion = 0.8\n",
        "i = int(N*2*train_propotion)\n",
        "\n",
        "#convert data to float32\n",
        "xx = x.astype(np.float32)\n",
        "yy = y.astype(np.float32)\n",
        "cfcf = cf.astype(np.float32)\n",
        "\n",
        "train_x = xx[:i]\n",
        "valid_x = xx[i:]\n",
        "\n",
        "trainset = MyDataset(xx[:i],yy[:i], cfcf[:i])\n",
        "valset = MyDataset(xx[i:],yy[i:], cfcf[i:])\n",
        "\n",
        "train_loader = torch.utils.data.DataLoader(trainset, batch_size, shuffle=True, pin_memory=True,num_workers=1)\n",
        "valid_loader = torch.utils.data.DataLoader(valset, batch_size, shuffle=False, pin_memory=True,num_workers=1)"
      ]
    },
    {
      "cell_type": "code",
      "execution_count": 6,
      "metadata": {
        "id": "v1LootliNNBl"
      },
      "outputs": [],
      "source": [
        "class modelF1(nn.Module):\n",
        "    \"\"\"\n",
        "    feature predictor\n",
        "    \"\"\"\n",
        "    def __init__(self):\n",
        "        super(modelF1, self).__init__()\n",
        "\n",
        "        self.conv = nn.Sequential(\n",
        "            nn.Conv2d(1, 2, kernel_size=3, padding=0),\n",
        "            nn.Tanh(),\n",
        "            nn.MaxPool2d(2),\n",
        "            nn.Conv2d(2, 4, kernel_size=3, padding=0),\n",
        "            nn.Tanh(),\n",
        "            nn.MaxPool2d(2),\n",
        "            nn.Conv2d(4, 8, kernel_size=3, padding=0),\n",
        "            nn.Tanh(),\n",
        "            nn.MaxPool2d(2),\n",
        "            nn.Flatten()\n",
        "        )\n",
        "\n",
        "    def forward(self, x):\n",
        "        return self.conv(x)\n",
        "\n",
        "\n",
        "class modelB1(nn.Module):\n",
        "    \"\"\"\n",
        "    bias predictor\n",
        "    \"\"\"\n",
        "    def __init__(self):\n",
        "        super(modelB1, self).__init__()\n",
        "\n",
        "        self.conv = nn.Sequential(\n",
        "            nn.Linear(32, 16),\n",
        "            nn.Tanh(),\n",
        "            nn.Linear(16, 1))\n",
        "\n",
        "    def forward(self, x):\n",
        "        return self.conv(x)\n",
        "\n",
        "class modelP1(nn.Module):\n",
        "    \"\"\"\n",
        "    predictor\n",
        "    \"\"\"\n",
        "    def __init__(self):\n",
        "        super(modelP1, self).__init__()\n",
        "\n",
        "        self.conv = nn.Sequential(\n",
        "            nn.Linear(32, 16),\n",
        "            nn.Tanh(),\n",
        "            nn.Linear(16, 1),\n",
        "            nn.Sigmoid())\n",
        "\n",
        "    def forward(self, x):\n",
        "        return self.conv(x)"
      ]
    },
    {
      "cell_type": "code",
      "execution_count": 7,
      "metadata": {
        "colab": {
          "base_uri": "https://localhost:8080/"
        },
        "id": "20rg-ZmWNNBm",
        "outputId": "3439d1be-3f5f-4f04-d38c-db51b8710eee"
      },
      "outputs": [
        {
          "name": "stdout",
          "output_type": "stream",
          "text": [
            "CUDA is available. Training on GPU\n"
          ]
        }
      ],
      "source": [
        "train_on_gpu = torch.cuda.is_available()\n",
        "if not train_on_gpu:\n",
        "    print('CUDA is not available. Training on CPU')\n",
        "else:\n",
        "    print('CUDA is available. Training on GPU')\n",
        "\n",
        "device = torch.device(\"cuda\" if train_on_gpu else \"cpu\")"
      ]
    },
    {
      "cell_type": "code",
      "execution_count": 8,
      "metadata": {
        "id": "rQakDhK9NNBm"
      },
      "outputs": [],
      "source": [
        "\n",
        "modelF = modelF1()\n",
        "modelP = modelP1()\n",
        "modelB = modelB1()\n",
        "\n",
        "modelF = torch.nn.DataParallel(modelF).to(device) # send tensor to device\n",
        "modelP = torch.nn.DataParallel(modelP).to(device) # send tensor to device\n",
        "modelB = torch.nn.DataParallel(modelB).to(device) # send tensor to device"
      ]
    },
    {
      "cell_type": "code",
      "execution_count": 9,
      "metadata": {
        "id": "RoE6fZ2dNNBm"
      },
      "outputs": [],
      "source": [
        "opt = torch.optim.Adam(list(modelF.parameters())+ list(modelP.parameters())+list(modelB.parameters()), lr=0.0001)"
      ]
    },
    {
      "cell_type": "code",
      "execution_count": 10,
      "metadata": {
        "colab": {
          "base_uri": "https://localhost:8080/"
        },
        "id": "pNrLv_V5NNBm",
        "outputId": "a06cf50e-2a3d-43bc-cc66-3b3d06322337"
      },
      "outputs": [
        {
          "name": "stdout",
          "output_type": "stream",
          "text": [
            "Epoch 1/20000 Train loss: 0.7089 Valid loss: 1.2867 Train lossb: -0.0414 Valid lossb: -0.0478 Time: 0m 1s\n",
            "Epoch 101/20000 Train loss: 0.6618 Valid loss: 1.9601 Train lossb: -0.0108 Valid lossb: -0.0506 Time: 0m 0s\n"
          ]
        },
        {
          "ename": "KeyboardInterrupt",
          "evalue": "",
          "output_type": "error",
          "traceback": [
            "\u001b[0;31m---------------------------------------------------------------------------\u001b[0m",
            "\u001b[0;31mKeyboardInterrupt\u001b[0m                         Traceback (most recent call last)",
            "Cell \u001b[0;32mIn[10], line 22\u001b[0m\n\u001b[1;32m     20\u001b[0m modelP\u001b[38;5;241m.\u001b[39mtrain()\n\u001b[1;32m     21\u001b[0m modelB\u001b[38;5;241m.\u001b[39mtrain()\n\u001b[0;32m---> 22\u001b[0m \u001b[38;5;28;01mfor\u001b[39;00m x, y, b \u001b[38;5;129;01min\u001b[39;00m train_loader: \u001b[38;5;66;03m# b is bias\u001b[39;00m\n\u001b[1;32m     23\u001b[0m         \u001b[38;5;66;03m#no control group as easier to train\u001b[39;00m\n\u001b[1;32m     24\u001b[0m         x \u001b[38;5;241m=\u001b[39m x\u001b[38;5;241m.\u001b[39mpermute(\u001b[38;5;241m0\u001b[39m,\u001b[38;5;241m3\u001b[39m,\u001b[38;5;241m1\u001b[39m,\u001b[38;5;241m2\u001b[39m)\n\u001b[1;32m     25\u001b[0m         y, b \u001b[38;5;241m=\u001b[39m torch\u001b[38;5;241m.\u001b[39munsqueeze(y,\u001b[38;5;241m1\u001b[39m), torch\u001b[38;5;241m.\u001b[39munsqueeze(b,\u001b[38;5;241m1\u001b[39m)\n",
            "File \u001b[0;32m~/anaconda3/lib/python3.10/site-packages/torch/utils/data/dataloader.py:631\u001b[0m, in \u001b[0;36m_BaseDataLoaderIter.__next__\u001b[0;34m(self)\u001b[0m\n\u001b[1;32m    628\u001b[0m \u001b[38;5;28;01mif\u001b[39;00m \u001b[38;5;28mself\u001b[39m\u001b[38;5;241m.\u001b[39m_sampler_iter \u001b[38;5;129;01mis\u001b[39;00m \u001b[38;5;28;01mNone\u001b[39;00m:\n\u001b[1;32m    629\u001b[0m     \u001b[38;5;66;03m# TODO(https://github.com/pytorch/pytorch/issues/76750)\u001b[39;00m\n\u001b[1;32m    630\u001b[0m     \u001b[38;5;28mself\u001b[39m\u001b[38;5;241m.\u001b[39m_reset()  \u001b[38;5;66;03m# type: ignore[call-arg]\u001b[39;00m\n\u001b[0;32m--> 631\u001b[0m data \u001b[38;5;241m=\u001b[39m \u001b[38;5;28;43mself\u001b[39;49m\u001b[38;5;241;43m.\u001b[39;49m\u001b[43m_next_data\u001b[49m\u001b[43m(\u001b[49m\u001b[43m)\u001b[49m\n\u001b[1;32m    632\u001b[0m \u001b[38;5;28mself\u001b[39m\u001b[38;5;241m.\u001b[39m_num_yielded \u001b[38;5;241m+\u001b[39m\u001b[38;5;241m=\u001b[39m \u001b[38;5;241m1\u001b[39m\n\u001b[1;32m    633\u001b[0m \u001b[38;5;28;01mif\u001b[39;00m \u001b[38;5;28mself\u001b[39m\u001b[38;5;241m.\u001b[39m_dataset_kind \u001b[38;5;241m==\u001b[39m _DatasetKind\u001b[38;5;241m.\u001b[39mIterable \u001b[38;5;129;01mand\u001b[39;00m \\\n\u001b[1;32m    634\u001b[0m         \u001b[38;5;28mself\u001b[39m\u001b[38;5;241m.\u001b[39m_IterableDataset_len_called \u001b[38;5;129;01mis\u001b[39;00m \u001b[38;5;129;01mnot\u001b[39;00m \u001b[38;5;28;01mNone\u001b[39;00m \u001b[38;5;129;01mand\u001b[39;00m \\\n\u001b[1;32m    635\u001b[0m         \u001b[38;5;28mself\u001b[39m\u001b[38;5;241m.\u001b[39m_num_yielded \u001b[38;5;241m>\u001b[39m \u001b[38;5;28mself\u001b[39m\u001b[38;5;241m.\u001b[39m_IterableDataset_len_called:\n",
            "File \u001b[0;32m~/anaconda3/lib/python3.10/site-packages/torch/utils/data/dataloader.py:1318\u001b[0m, in \u001b[0;36m_MultiProcessingDataLoaderIter._next_data\u001b[0;34m(self)\u001b[0m\n\u001b[1;32m   1315\u001b[0m \u001b[38;5;28;01melse\u001b[39;00m:\n\u001b[1;32m   1316\u001b[0m     \u001b[38;5;66;03m# no valid `self._rcvd_idx` is found (i.e., didn't break)\u001b[39;00m\n\u001b[1;32m   1317\u001b[0m     \u001b[38;5;28;01mif\u001b[39;00m \u001b[38;5;129;01mnot\u001b[39;00m \u001b[38;5;28mself\u001b[39m\u001b[38;5;241m.\u001b[39m_persistent_workers:\n\u001b[0;32m-> 1318\u001b[0m         \u001b[38;5;28;43mself\u001b[39;49m\u001b[38;5;241;43m.\u001b[39;49m\u001b[43m_shutdown_workers\u001b[49m\u001b[43m(\u001b[49m\u001b[43m)\u001b[49m\n\u001b[1;32m   1319\u001b[0m     \u001b[38;5;28;01mraise\u001b[39;00m \u001b[38;5;167;01mStopIteration\u001b[39;00m\n\u001b[1;32m   1321\u001b[0m \u001b[38;5;66;03m# Now `self._rcvd_idx` is the batch index we want to fetch\u001b[39;00m\n\u001b[1;32m   1322\u001b[0m \n\u001b[1;32m   1323\u001b[0m \u001b[38;5;66;03m# Check if the next sample has already been generated\u001b[39;00m\n",
            "File \u001b[0;32m~/anaconda3/lib/python3.10/site-packages/torch/utils/data/dataloader.py:1443\u001b[0m, in \u001b[0;36m_MultiProcessingDataLoaderIter._shutdown_workers\u001b[0;34m(self)\u001b[0m\n\u001b[1;32m   1438\u001b[0m         \u001b[38;5;28mself\u001b[39m\u001b[38;5;241m.\u001b[39m_mark_worker_as_unavailable(worker_id, shutdown\u001b[38;5;241m=\u001b[39m\u001b[38;5;28;01mTrue\u001b[39;00m)\n\u001b[1;32m   1439\u001b[0m \u001b[38;5;28;01mfor\u001b[39;00m w \u001b[38;5;129;01min\u001b[39;00m \u001b[38;5;28mself\u001b[39m\u001b[38;5;241m.\u001b[39m_workers:\n\u001b[1;32m   1440\u001b[0m     \u001b[38;5;66;03m# We should be able to join here, but in case anything went\u001b[39;00m\n\u001b[1;32m   1441\u001b[0m     \u001b[38;5;66;03m# wrong, we set a timeout and if the workers fail to join,\u001b[39;00m\n\u001b[1;32m   1442\u001b[0m     \u001b[38;5;66;03m# they are killed in the `finally` block.\u001b[39;00m\n\u001b[0;32m-> 1443\u001b[0m     \u001b[43mw\u001b[49m\u001b[38;5;241;43m.\u001b[39;49m\u001b[43mjoin\u001b[49m\u001b[43m(\u001b[49m\u001b[43mtimeout\u001b[49m\u001b[38;5;241;43m=\u001b[39;49m\u001b[43m_utils\u001b[49m\u001b[38;5;241;43m.\u001b[39;49m\u001b[43mMP_STATUS_CHECK_INTERVAL\u001b[49m\u001b[43m)\u001b[49m\n\u001b[1;32m   1444\u001b[0m \u001b[38;5;28;01mfor\u001b[39;00m q \u001b[38;5;129;01min\u001b[39;00m \u001b[38;5;28mself\u001b[39m\u001b[38;5;241m.\u001b[39m_index_queues:\n\u001b[1;32m   1445\u001b[0m     q\u001b[38;5;241m.\u001b[39mcancel_join_thread()\n",
            "File \u001b[0;32m~/anaconda3/lib/python3.10/multiprocessing/process.py:149\u001b[0m, in \u001b[0;36mBaseProcess.join\u001b[0;34m(self, timeout)\u001b[0m\n\u001b[1;32m    147\u001b[0m \u001b[38;5;28;01massert\u001b[39;00m \u001b[38;5;28mself\u001b[39m\u001b[38;5;241m.\u001b[39m_parent_pid \u001b[38;5;241m==\u001b[39m os\u001b[38;5;241m.\u001b[39mgetpid(), \u001b[38;5;124m'\u001b[39m\u001b[38;5;124mcan only join a child process\u001b[39m\u001b[38;5;124m'\u001b[39m\n\u001b[1;32m    148\u001b[0m \u001b[38;5;28;01massert\u001b[39;00m \u001b[38;5;28mself\u001b[39m\u001b[38;5;241m.\u001b[39m_popen \u001b[38;5;129;01mis\u001b[39;00m \u001b[38;5;129;01mnot\u001b[39;00m \u001b[38;5;28;01mNone\u001b[39;00m, \u001b[38;5;124m'\u001b[39m\u001b[38;5;124mcan only join a started process\u001b[39m\u001b[38;5;124m'\u001b[39m\n\u001b[0;32m--> 149\u001b[0m res \u001b[38;5;241m=\u001b[39m \u001b[38;5;28;43mself\u001b[39;49m\u001b[38;5;241;43m.\u001b[39;49m\u001b[43m_popen\u001b[49m\u001b[38;5;241;43m.\u001b[39;49m\u001b[43mwait\u001b[49m\u001b[43m(\u001b[49m\u001b[43mtimeout\u001b[49m\u001b[43m)\u001b[49m\n\u001b[1;32m    150\u001b[0m \u001b[38;5;28;01mif\u001b[39;00m res \u001b[38;5;129;01mis\u001b[39;00m \u001b[38;5;129;01mnot\u001b[39;00m \u001b[38;5;28;01mNone\u001b[39;00m:\n\u001b[1;32m    151\u001b[0m     _children\u001b[38;5;241m.\u001b[39mdiscard(\u001b[38;5;28mself\u001b[39m)\n",
            "File \u001b[0;32m~/anaconda3/lib/python3.10/multiprocessing/popen_fork.py:40\u001b[0m, in \u001b[0;36mPopen.wait\u001b[0;34m(self, timeout)\u001b[0m\n\u001b[1;32m     38\u001b[0m \u001b[38;5;28;01mif\u001b[39;00m timeout \u001b[38;5;129;01mis\u001b[39;00m \u001b[38;5;129;01mnot\u001b[39;00m \u001b[38;5;28;01mNone\u001b[39;00m:\n\u001b[1;32m     39\u001b[0m     \u001b[38;5;28;01mfrom\u001b[39;00m \u001b[38;5;21;01mmultiprocessing\u001b[39;00m\u001b[38;5;21;01m.\u001b[39;00m\u001b[38;5;21;01mconnection\u001b[39;00m \u001b[38;5;28;01mimport\u001b[39;00m wait\n\u001b[0;32m---> 40\u001b[0m     \u001b[38;5;28;01mif\u001b[39;00m \u001b[38;5;129;01mnot\u001b[39;00m \u001b[43mwait\u001b[49m\u001b[43m(\u001b[49m\u001b[43m[\u001b[49m\u001b[38;5;28;43mself\u001b[39;49m\u001b[38;5;241;43m.\u001b[39;49m\u001b[43msentinel\u001b[49m\u001b[43m]\u001b[49m\u001b[43m,\u001b[49m\u001b[43m \u001b[49m\u001b[43mtimeout\u001b[49m\u001b[43m)\u001b[49m:\n\u001b[1;32m     41\u001b[0m         \u001b[38;5;28;01mreturn\u001b[39;00m \u001b[38;5;28;01mNone\u001b[39;00m\n\u001b[1;32m     42\u001b[0m \u001b[38;5;66;03m# This shouldn't block if wait() returned successfully.\u001b[39;00m\n",
            "File \u001b[0;32m~/anaconda3/lib/python3.10/multiprocessing/connection.py:931\u001b[0m, in \u001b[0;36mwait\u001b[0;34m(object_list, timeout)\u001b[0m\n\u001b[1;32m    928\u001b[0m     deadline \u001b[38;5;241m=\u001b[39m time\u001b[38;5;241m.\u001b[39mmonotonic() \u001b[38;5;241m+\u001b[39m timeout\n\u001b[1;32m    930\u001b[0m \u001b[38;5;28;01mwhile\u001b[39;00m \u001b[38;5;28;01mTrue\u001b[39;00m:\n\u001b[0;32m--> 931\u001b[0m     ready \u001b[38;5;241m=\u001b[39m \u001b[43mselector\u001b[49m\u001b[38;5;241;43m.\u001b[39;49m\u001b[43mselect\u001b[49m\u001b[43m(\u001b[49m\u001b[43mtimeout\u001b[49m\u001b[43m)\u001b[49m\n\u001b[1;32m    932\u001b[0m     \u001b[38;5;28;01mif\u001b[39;00m ready:\n\u001b[1;32m    933\u001b[0m         \u001b[38;5;28;01mreturn\u001b[39;00m [key\u001b[38;5;241m.\u001b[39mfileobj \u001b[38;5;28;01mfor\u001b[39;00m (key, events) \u001b[38;5;129;01min\u001b[39;00m ready]\n",
            "File \u001b[0;32m~/anaconda3/lib/python3.10/selectors.py:416\u001b[0m, in \u001b[0;36m_PollLikeSelector.select\u001b[0;34m(self, timeout)\u001b[0m\n\u001b[1;32m    414\u001b[0m ready \u001b[38;5;241m=\u001b[39m []\n\u001b[1;32m    415\u001b[0m \u001b[38;5;28;01mtry\u001b[39;00m:\n\u001b[0;32m--> 416\u001b[0m     fd_event_list \u001b[38;5;241m=\u001b[39m \u001b[38;5;28;43mself\u001b[39;49m\u001b[38;5;241;43m.\u001b[39;49m\u001b[43m_selector\u001b[49m\u001b[38;5;241;43m.\u001b[39;49m\u001b[43mpoll\u001b[49m\u001b[43m(\u001b[49m\u001b[43mtimeout\u001b[49m\u001b[43m)\u001b[49m\n\u001b[1;32m    417\u001b[0m \u001b[38;5;28;01mexcept\u001b[39;00m \u001b[38;5;167;01mInterruptedError\u001b[39;00m:\n\u001b[1;32m    418\u001b[0m     \u001b[38;5;28;01mreturn\u001b[39;00m ready\n",
            "\u001b[0;31mKeyboardInterrupt\u001b[0m: "
          ]
        }
      ],
      "source": [
        "train_loss_list = []\n",
        "valid_loss_list = []\n",
        "train_lossb_list = []\n",
        "valid_lossb_list = []\n",
        "\n",
        "\n",
        "\n",
        "epochs = 20000\n",
        "for epoch in range(epochs):\n",
        "\n",
        "    train_loss = 0.0\n",
        "    valid_loss = 0.0\n",
        "    train_lossb = 0.0\n",
        "    valid_lossb = 0.0\n",
        "\n",
        "\n",
        "    since = time.time()\n",
        "\n",
        "    modelF.train()\n",
        "    modelP.train()\n",
        "    modelB.train()\n",
        "    for x, y, b in train_loader: # b is bias\n",
        "            #no control group as easier to train\n",
        "            x = x.permute(0,3,1,2)\n",
        "            y, b = torch.unsqueeze(y,1), torch.unsqueeze(b,1)\n",
        "            x,y,b = x.to(device), y.to(device), b.to(device)\n",
        "            F_pred = modelF(x)\n",
        "            y_pred = modelP(F_pred)\n",
        "            b_pred = modelB(F_pred)\n",
        "\n",
        "            #no adversarial loss for the ctrl group\n",
        "            lossp = lossp_calc(y_pred, y)\n",
        "            lossb = lossb_calc(b_pred, b)\n",
        "            lossb_adverseral = lossb_adverseral_calc(b_pred, b)\n",
        "\n",
        "            train_loss += lossp.item()\n",
        "            train_lossb += lossb.item()\n",
        "\n",
        "            opt.zero_grad(True)\n",
        "            # Step 1\n",
        "            (lossp - lossb).backward(retain_graph=True, inputs = tuple(modelF.parameters())) #want to maximise lossb\n",
        "\n",
        "            # Step 2\n",
        "            (lossb_adverseral).backward(retain_graph=True, inputs = tuple(modelB.parameters())) # want to minimise lossb_adverseral (b is - corr^2 or mse) this is adverseral part\n",
        "\n",
        "            # Step 3\n",
        "            (lossp).backward(inputs= tuple(modelP.parameters()))\n",
        "\n",
        "            opt.step()\n",
        "\n",
        "\n",
        "\n",
        "\n",
        "    modelF.eval()\n",
        "    modelP.eval()\n",
        "    modelB.eval()\n",
        "    with torch.no_grad(): #to increase the validation process uses less memory\n",
        "        for x1, y1, b1 in valid_loader:\n",
        "            x1 = x1.permute(0,3,1,2)\n",
        "            y1, b1 = torch.unsqueeze(y1,1), torch.unsqueeze(b1,1)\n",
        "            x1,y1,b1 = x1.to(device), y1.to(device), b1.to(device)\n",
        "\n",
        "            F_pred = modelF(x1)\n",
        "            y_pred = modelP(F_pred)\n",
        "            b_pred = modelB(F_pred)\n",
        "\n",
        "            lossp = lossp_calc(y_pred, y1)\n",
        "            lossb = lossb_calc(b_pred, b1)\n",
        "\n",
        "            valid_loss += lossp.item()\n",
        "            valid_lossb += lossb.item()\n",
        "\n",
        "            valid_loss += lossp.item()\n",
        "            valid_lossb += lossb.item()\n",
        "\n",
        "    train_loss /= len(train_loader)\n",
        "    valid_loss /= len(valid_loader)\n",
        "    train_lossb /= len(train_loader)\n",
        "    valid_lossb /= len(valid_loader) # hence this is the per batch loss\n",
        "\n",
        "\n",
        "    train_loss_list += [train_loss]\n",
        "    valid_loss_list += [valid_loss]\n",
        "    train_lossb_list += [train_lossb]\n",
        "    valid_lossb_list += [valid_lossb]\n",
        "\n",
        "\n",
        "    if (epoch%100==0):\n",
        "      #print time per epoch\n",
        "      time_elapsed = time.time() - since\n",
        "      print('Epoch {}/{}'.format(epoch+1, epochs),\n",
        "            'Train loss: {:.4f}'.format(train_loss),\n",
        "            'Valid loss: {:.4f}'.format(valid_loss),\n",
        "            'Train lossb: {:.4f}'.format(train_lossb),\n",
        "            'Valid lossb: {:.4f}'.format(valid_lossb),\n",
        "            'Time: {:.0f}m {:.0f}s'.format(time_elapsed // 60, time_elapsed % 60))\n"
      ]
    },
    {
      "cell_type": "code",
      "execution_count": null,
      "metadata": {
        "id": "OEiDsJkfNNBm"
      },
      "outputs": [],
      "source": [
        "import matplotlib.pyplot as plt\n",
        "\n",
        "# Assuming you have the following variables defined:\n",
        "# train_loss, valid_loss, train_lossb, valid_lossb\n",
        "\n",
        "\n",
        "\n",
        "# Plotting loss\n",
        "plt.figure(figsize=(10, 5))\n",
        "plt.plot(np.array(train_loss_list), label='Train Loss')\n",
        "plt.plot(np.array(valid_loss_list), label='Valid Loss')\n",
        "plt.xlabel('Epochs')\n",
        "plt.ylabel('Loss')\n",
        "plt.title('Loss')\n",
        "plt.legend()\n",
        "plt.show()\n",
        "\n",
        "# Plotting lossb\n",
        "plt.figure(figsize=(10, 5))\n",
        "plt.plot(np.array(train_lossb_list), label='Train Lossb')\n",
        "plt.plot(np.array(valid_lossb_list), label='Valid Lossb')\n",
        "plt.xlabel('Epochs')\n",
        "plt.ylabel('Lossb')\n",
        "plt.title('Lossb')\n",
        "plt.legend()\n",
        "plt.show()\n"
      ]
    },
    {
      "cell_type": "markdown",
      "metadata": {
        "id": "UNWZcg11NNBn"
      },
      "source": [
        "# Visualizing the Association between Features and Confounder"
      ]
    },
    {
      "cell_type": "code",
      "execution_count": null,
      "metadata": {},
      "outputs": [],
      "source": [
        "train_x = xx[:i]\n",
        "valid_x = xx[i:]"
      ]
    },
    {
      "cell_type": "code",
      "execution_count": null,
      "metadata": {
        "id": "vvIlsdmgNNBn"
      },
      "outputs": [],
      "source": [
        "for x in [train_x, valid_x]:\n",
        "\n",
        "  x = torch.tensor(x, dtype=torch.float32).to(device)\n",
        "  x = x.permute(0,3,1,2)\n",
        "\n",
        "\n",
        "  # Get the gradients of the output with respect to the input\n",
        "  x.requires_grad_()\n",
        "\n",
        "  modelF.eval()\n",
        "  modelP.eval()\n",
        "  output = modelP(modelF(x)).sum(dim=0)\n",
        "  modelF.zero_grad()\n",
        "  modelP.zero_grad()\n",
        "  output.backward()\n",
        "\n",
        "  # Compute the saliency map\n",
        "  saliency_map = x.grad.abs().squeeze().mean(dim=0).cpu().numpy()\n",
        "\n",
        "  # Normalize the saliency map\n",
        "  saliency_map /= saliency_map.max()\n",
        "\n",
        "  # Plot the original image and the saliency map\n",
        "  plt.figure(figsize=(10, 5))\n",
        "  plt.subplot(1, 2, 1)\n",
        "  plt.imshow(x[0,0,:,:].detach().cpu().numpy())\n",
        "  plt.title('Original Image')\n",
        "  plt.axis('off')\n",
        "\n",
        "  plt.subplot(1, 2, 2)\n",
        "  plt.imshow(saliency_map)\n",
        "  plt.title('Saliency Map')\n",
        "  plt.axis('off')\n",
        "  plt.show()"
      ]
    },
    {
      "cell_type": "code",
      "execution_count": 10,
      "metadata": {},
      "outputs": [],
      "source": [
        "# dcorr loss\n",
        "def dcor_loss_calc(X, Y):\n",
        "    \"\"\" Compute the distance correlation function using PyTorch tensors\"\"\"\n",
        "\n",
        "\n",
        "    #n = X.size(dim=1)\n",
        "  \n",
        "    # Compute distance matrices\n",
        "    a = torch.cdist(X.unsqueeze(2), X.unsqueeze(2))\n",
        "    b = torch.cdist(Y.unsqueeze(2), Y.unsqueeze(2)) \n",
        "    # assuming X, Y is a vector we unsqueeze\n",
        "\n",
        "\n",
        "\n",
        "    # Compute double centered distance matrices\n",
        "    A = a - a.mean(dim=1, keepdim=True) - a.mean(dim=2, keepdim=True) + a.mean(dim=(1,2), keepdim=True)\n",
        "    B = b - b.mean(dim=1, keepdim=True) - b.mean(dim=2, keepdim=True) + b.mean(dim=(1,2), keepdim=True)\n",
        "\n",
        "    # Compute distance covariance and variance\n",
        "    dCovXY = (A * B).sum(dim=(1,2)) #/ (n**2)\n",
        "    dVarX = (A**2).sum(dim=(1,2)) #/ (n**2)\n",
        "    dVarY = (B**2).sum(dim=(1,2)) #/ (n**2)\n",
        "\n",
        "    # Compute distance correlation\n",
        "    dCorXY = dCovXY / (dVarX * dVarY).sqrt()\n",
        "\n",
        "    return dCorXY.sum()"
      ]
    },
    {
      "cell_type": "code",
      "execution_count": null,
      "metadata": {},
      "outputs": [],
      "source": [
        "for layer in modelF.children():\n",
        "   if hasattr(layer, 'reset_parameters'):\n",
        "       layer.reset_parameters()\n",
        "\n",
        "for layer in modelP.children():\n",
        "    if hasattr(layer, 'reset_parameters'):\n",
        "         layer.reset_parameters()\n",
        "\n",
        "for layer in modelB.children():\n",
        "    if hasattr(layer, 'reset_parameters'):\n",
        "         layer.reset_parameters()"
      ]
    },
    {
      "cell_type": "code",
      "execution_count": 11,
      "metadata": {
        "id": "YtTcPQYdNNBo"
      },
      "outputs": [
        {
          "ename": "KeyboardInterrupt",
          "evalue": "",
          "output_type": "error",
          "traceback": [
            "\u001b[0;31m---------------------------------------------------------------------------\u001b[0m",
            "\u001b[0;31mKeyboardInterrupt\u001b[0m                         Traceback (most recent call last)",
            "Cell \u001b[0;32mIn[11], line 21\u001b[0m\n\u001b[1;32m     19\u001b[0m modelF\u001b[38;5;241m.\u001b[39mtrain()\n\u001b[1;32m     20\u001b[0m modelP\u001b[38;5;241m.\u001b[39mtrain()\n\u001b[0;32m---> 21\u001b[0m \u001b[38;5;28;01mfor\u001b[39;00m x, y, b \u001b[38;5;129;01min\u001b[39;00m train_loader: \u001b[38;5;66;03m# b is bias\u001b[39;00m\n\u001b[1;32m     22\u001b[0m         \u001b[38;5;66;03m#no control group as easier to train\u001b[39;00m\n\u001b[1;32m     23\u001b[0m         x,y,b \u001b[38;5;241m=\u001b[39m x\u001b[38;5;241m.\u001b[39mto(device), y\u001b[38;5;241m.\u001b[39mto(device), b\u001b[38;5;241m.\u001b[39mto(device)\n\u001b[1;32m     24\u001b[0m         x \u001b[38;5;241m=\u001b[39m x\u001b[38;5;241m.\u001b[39mpermute(\u001b[38;5;241m0\u001b[39m,\u001b[38;5;241m3\u001b[39m,\u001b[38;5;241m1\u001b[39m,\u001b[38;5;241m2\u001b[39m)\n",
            "File \u001b[0;32m~/anaconda3/lib/python3.10/site-packages/torch/utils/data/dataloader.py:631\u001b[0m, in \u001b[0;36m_BaseDataLoaderIter.__next__\u001b[0;34m(self)\u001b[0m\n\u001b[1;32m    628\u001b[0m \u001b[38;5;28;01mif\u001b[39;00m \u001b[38;5;28mself\u001b[39m\u001b[38;5;241m.\u001b[39m_sampler_iter \u001b[38;5;129;01mis\u001b[39;00m \u001b[38;5;28;01mNone\u001b[39;00m:\n\u001b[1;32m    629\u001b[0m     \u001b[38;5;66;03m# TODO(https://github.com/pytorch/pytorch/issues/76750)\u001b[39;00m\n\u001b[1;32m    630\u001b[0m     \u001b[38;5;28mself\u001b[39m\u001b[38;5;241m.\u001b[39m_reset()  \u001b[38;5;66;03m# type: ignore[call-arg]\u001b[39;00m\n\u001b[0;32m--> 631\u001b[0m data \u001b[38;5;241m=\u001b[39m \u001b[38;5;28;43mself\u001b[39;49m\u001b[38;5;241;43m.\u001b[39;49m\u001b[43m_next_data\u001b[49m\u001b[43m(\u001b[49m\u001b[43m)\u001b[49m\n\u001b[1;32m    632\u001b[0m \u001b[38;5;28mself\u001b[39m\u001b[38;5;241m.\u001b[39m_num_yielded \u001b[38;5;241m+\u001b[39m\u001b[38;5;241m=\u001b[39m \u001b[38;5;241m1\u001b[39m\n\u001b[1;32m    633\u001b[0m \u001b[38;5;28;01mif\u001b[39;00m \u001b[38;5;28mself\u001b[39m\u001b[38;5;241m.\u001b[39m_dataset_kind \u001b[38;5;241m==\u001b[39m _DatasetKind\u001b[38;5;241m.\u001b[39mIterable \u001b[38;5;129;01mand\u001b[39;00m \\\n\u001b[1;32m    634\u001b[0m         \u001b[38;5;28mself\u001b[39m\u001b[38;5;241m.\u001b[39m_IterableDataset_len_called \u001b[38;5;129;01mis\u001b[39;00m \u001b[38;5;129;01mnot\u001b[39;00m \u001b[38;5;28;01mNone\u001b[39;00m \u001b[38;5;129;01mand\u001b[39;00m \\\n\u001b[1;32m    635\u001b[0m         \u001b[38;5;28mself\u001b[39m\u001b[38;5;241m.\u001b[39m_num_yielded \u001b[38;5;241m>\u001b[39m \u001b[38;5;28mself\u001b[39m\u001b[38;5;241m.\u001b[39m_IterableDataset_len_called:\n",
            "File \u001b[0;32m~/anaconda3/lib/python3.10/site-packages/torch/utils/data/dataloader.py:1329\u001b[0m, in \u001b[0;36m_MultiProcessingDataLoaderIter._next_data\u001b[0;34m(self)\u001b[0m\n\u001b[1;32m   1326\u001b[0m     \u001b[38;5;28;01mreturn\u001b[39;00m \u001b[38;5;28mself\u001b[39m\u001b[38;5;241m.\u001b[39m_process_data(data)\n\u001b[1;32m   1328\u001b[0m \u001b[38;5;28;01massert\u001b[39;00m \u001b[38;5;129;01mnot\u001b[39;00m \u001b[38;5;28mself\u001b[39m\u001b[38;5;241m.\u001b[39m_shutdown \u001b[38;5;129;01mand\u001b[39;00m \u001b[38;5;28mself\u001b[39m\u001b[38;5;241m.\u001b[39m_tasks_outstanding \u001b[38;5;241m>\u001b[39m \u001b[38;5;241m0\u001b[39m\n\u001b[0;32m-> 1329\u001b[0m idx, data \u001b[38;5;241m=\u001b[39m \u001b[38;5;28;43mself\u001b[39;49m\u001b[38;5;241;43m.\u001b[39;49m\u001b[43m_get_data\u001b[49m\u001b[43m(\u001b[49m\u001b[43m)\u001b[49m\n\u001b[1;32m   1330\u001b[0m \u001b[38;5;28mself\u001b[39m\u001b[38;5;241m.\u001b[39m_tasks_outstanding \u001b[38;5;241m-\u001b[39m\u001b[38;5;241m=\u001b[39m \u001b[38;5;241m1\u001b[39m\n\u001b[1;32m   1331\u001b[0m \u001b[38;5;28;01mif\u001b[39;00m \u001b[38;5;28mself\u001b[39m\u001b[38;5;241m.\u001b[39m_dataset_kind \u001b[38;5;241m==\u001b[39m _DatasetKind\u001b[38;5;241m.\u001b[39mIterable:\n\u001b[1;32m   1332\u001b[0m     \u001b[38;5;66;03m# Check for _IterableDatasetStopIteration\u001b[39;00m\n",
            "File \u001b[0;32m~/anaconda3/lib/python3.10/site-packages/torch/utils/data/dataloader.py:1285\u001b[0m, in \u001b[0;36m_MultiProcessingDataLoaderIter._get_data\u001b[0;34m(self)\u001b[0m\n\u001b[1;32m   1283\u001b[0m \u001b[38;5;28;01melif\u001b[39;00m \u001b[38;5;28mself\u001b[39m\u001b[38;5;241m.\u001b[39m_pin_memory:\n\u001b[1;32m   1284\u001b[0m     \u001b[38;5;28;01mwhile\u001b[39;00m \u001b[38;5;28mself\u001b[39m\u001b[38;5;241m.\u001b[39m_pin_memory_thread\u001b[38;5;241m.\u001b[39mis_alive():\n\u001b[0;32m-> 1285\u001b[0m         success, data \u001b[38;5;241m=\u001b[39m \u001b[38;5;28;43mself\u001b[39;49m\u001b[38;5;241;43m.\u001b[39;49m\u001b[43m_try_get_data\u001b[49m\u001b[43m(\u001b[49m\u001b[43m)\u001b[49m\n\u001b[1;32m   1286\u001b[0m         \u001b[38;5;28;01mif\u001b[39;00m success:\n\u001b[1;32m   1287\u001b[0m             \u001b[38;5;28;01mreturn\u001b[39;00m data\n",
            "File \u001b[0;32m~/anaconda3/lib/python3.10/site-packages/torch/utils/data/dataloader.py:1133\u001b[0m, in \u001b[0;36m_MultiProcessingDataLoaderIter._try_get_data\u001b[0;34m(self, timeout)\u001b[0m\n\u001b[1;32m   1120\u001b[0m \u001b[38;5;28;01mdef\u001b[39;00m \u001b[38;5;21m_try_get_data\u001b[39m(\u001b[38;5;28mself\u001b[39m, timeout\u001b[38;5;241m=\u001b[39m_utils\u001b[38;5;241m.\u001b[39mMP_STATUS_CHECK_INTERVAL):\n\u001b[1;32m   1121\u001b[0m     \u001b[38;5;66;03m# Tries to fetch data from `self._data_queue` once for a given timeout.\u001b[39;00m\n\u001b[1;32m   1122\u001b[0m     \u001b[38;5;66;03m# This can also be used as inner loop of fetching without timeout, with\u001b[39;00m\n\u001b[0;32m   (...)\u001b[0m\n\u001b[1;32m   1130\u001b[0m     \u001b[38;5;66;03m# Returns a 2-tuple:\u001b[39;00m\n\u001b[1;32m   1131\u001b[0m     \u001b[38;5;66;03m#   (bool: whether successfully get data, any: data if successful else None)\u001b[39;00m\n\u001b[1;32m   1132\u001b[0m     \u001b[38;5;28;01mtry\u001b[39;00m:\n\u001b[0;32m-> 1133\u001b[0m         data \u001b[38;5;241m=\u001b[39m \u001b[38;5;28;43mself\u001b[39;49m\u001b[38;5;241;43m.\u001b[39;49m\u001b[43m_data_queue\u001b[49m\u001b[38;5;241;43m.\u001b[39;49m\u001b[43mget\u001b[49m\u001b[43m(\u001b[49m\u001b[43mtimeout\u001b[49m\u001b[38;5;241;43m=\u001b[39;49m\u001b[43mtimeout\u001b[49m\u001b[43m)\u001b[49m\n\u001b[1;32m   1134\u001b[0m         \u001b[38;5;28;01mreturn\u001b[39;00m (\u001b[38;5;28;01mTrue\u001b[39;00m, data)\n\u001b[1;32m   1135\u001b[0m     \u001b[38;5;28;01mexcept\u001b[39;00m \u001b[38;5;167;01mException\u001b[39;00m \u001b[38;5;28;01mas\u001b[39;00m e:\n\u001b[1;32m   1136\u001b[0m         \u001b[38;5;66;03m# At timeout and error, we manually check whether any worker has\u001b[39;00m\n\u001b[1;32m   1137\u001b[0m         \u001b[38;5;66;03m# failed. Note that this is the only mechanism for Windows to detect\u001b[39;00m\n\u001b[1;32m   1138\u001b[0m         \u001b[38;5;66;03m# worker failures.\u001b[39;00m\n",
            "File \u001b[0;32m~/anaconda3/lib/python3.10/queue.py:180\u001b[0m, in \u001b[0;36mQueue.get\u001b[0;34m(self, block, timeout)\u001b[0m\n\u001b[1;32m    178\u001b[0m         \u001b[38;5;28;01mif\u001b[39;00m remaining \u001b[38;5;241m<\u001b[39m\u001b[38;5;241m=\u001b[39m \u001b[38;5;241m0.0\u001b[39m:\n\u001b[1;32m    179\u001b[0m             \u001b[38;5;28;01mraise\u001b[39;00m Empty\n\u001b[0;32m--> 180\u001b[0m         \u001b[38;5;28;43mself\u001b[39;49m\u001b[38;5;241;43m.\u001b[39;49m\u001b[43mnot_empty\u001b[49m\u001b[38;5;241;43m.\u001b[39;49m\u001b[43mwait\u001b[49m\u001b[43m(\u001b[49m\u001b[43mremaining\u001b[49m\u001b[43m)\u001b[49m\n\u001b[1;32m    181\u001b[0m item \u001b[38;5;241m=\u001b[39m \u001b[38;5;28mself\u001b[39m\u001b[38;5;241m.\u001b[39m_get()\n\u001b[1;32m    182\u001b[0m \u001b[38;5;28mself\u001b[39m\u001b[38;5;241m.\u001b[39mnot_full\u001b[38;5;241m.\u001b[39mnotify()\n",
            "File \u001b[0;32m~/anaconda3/lib/python3.10/threading.py:324\u001b[0m, in \u001b[0;36mCondition.wait\u001b[0;34m(self, timeout)\u001b[0m\n\u001b[1;32m    322\u001b[0m \u001b[38;5;28;01melse\u001b[39;00m:\n\u001b[1;32m    323\u001b[0m     \u001b[38;5;28;01mif\u001b[39;00m timeout \u001b[38;5;241m>\u001b[39m \u001b[38;5;241m0\u001b[39m:\n\u001b[0;32m--> 324\u001b[0m         gotit \u001b[38;5;241m=\u001b[39m \u001b[43mwaiter\u001b[49m\u001b[38;5;241;43m.\u001b[39;49m\u001b[43macquire\u001b[49m\u001b[43m(\u001b[49m\u001b[38;5;28;43;01mTrue\u001b[39;49;00m\u001b[43m,\u001b[49m\u001b[43m \u001b[49m\u001b[43mtimeout\u001b[49m\u001b[43m)\u001b[49m\n\u001b[1;32m    325\u001b[0m     \u001b[38;5;28;01melse\u001b[39;00m:\n\u001b[1;32m    326\u001b[0m         gotit \u001b[38;5;241m=\u001b[39m waiter\u001b[38;5;241m.\u001b[39macquire(\u001b[38;5;28;01mFalse\u001b[39;00m)\n",
            "\u001b[0;31mKeyboardInterrupt\u001b[0m: "
          ]
        }
      ],
      "source": [
        "train_loss_list = []\n",
        "valid_loss_list = []\n",
        "train_lossb_list = []\n",
        "valid_lossb_list = []\n",
        "\n",
        "lam = 1\n",
        "\n",
        "epochs = 20000\n",
        "for epoch in range(epochs):\n",
        "\n",
        "    train_loss = 0.0\n",
        "    valid_loss = 0.0\n",
        "    train_lossb = 0.0\n",
        "    valid_lossb = 0.0\n",
        "\n",
        "\n",
        "    since = time.time()\n",
        "\n",
        "    modelF.train()\n",
        "    modelP.train()\n",
        "    for x, y, b in train_loader: # b is bias\n",
        "            #no control group as easier to train\n",
        "            x,y,b = x.to(device), y.to(device), b.to(device)\n",
        "            x = x.permute(0,3,1,2)\n",
        "            y, b = torch.unsqueeze(y,1), torch.unsqueeze(b,1)\n",
        "            F_pred = modelF(x)\n",
        "            y_pred = modelP(F_pred)\n",
        "            print(x.size(), y.size(), b.size())\n",
        "            print(F_pred.size(), y_pred.size())\n",
        "            print(y.min(), y.max())\n",
        "            print(y_pred.min(), y_pred.max())\n",
        "\n",
        "            #no adversarial loss for the ctrl group\n",
        "            lossp = lossp_calc(y_pred, y)\n",
        "            lossb = dcor_loss_calc(F_pred, b)\n",
        "\n",
        "            train_loss += lossp.item()\n",
        "            train_lossb += lossb.item()\n",
        "\n",
        "            opt.zero_grad(True)\n",
        "            (lossp + lam*lossb).backward() \n",
        "            opt.step()\n",
        "\n",
        "\n",
        "\n",
        "\n",
        "    modelF.eval()\n",
        "    modelP.eval()\n",
        "    with torch.no_grad(): #to increase the validation process uses less memory\n",
        "        for x1, y1, b1 in valid_loader:\n",
        "            x1,y1,b1 = x1.to(device), y1.to(device), b1.to(device)\n",
        "            x1 = x1.permute(0,3,1,2)\n",
        "            y1, b1 = torch.unsqueeze(y1,1), torch.unsqueeze(b1,1)\n",
        "            \n",
        "            F_pred = modelF(x1)\n",
        "            y_pred = modelP(F_pred)\n",
        "\n",
        "            lossp = lossp_calc(y_pred, y1)\n",
        "            lossb = dcor_loss_calc(F_pred, b1)\n",
        "\n",
        "            valid_loss += lossp.item()\n",
        "            valid_lossb += lossb.item()\n",
        "\n",
        "            valid_loss += lossp.item()\n",
        "            valid_lossb += lossb.item()\n",
        "\n",
        "    train_loss /= len(train_loader)\n",
        "    valid_loss /= len(valid_loader)\n",
        "    train_lossb /= len(train_loader)\n",
        "    valid_lossb /= len(valid_loader) # hence this is the per batch loss\n",
        "\n",
        "\n",
        "    train_loss_list += [train_loss]\n",
        "    valid_loss_list += [valid_loss]\n",
        "    train_lossb_list += [train_lossb]\n",
        "    valid_lossb_list += [valid_lossb]\n",
        "\n",
        "\n",
        "    if (epoch%100==0):\n",
        "      #print time per epoch\n",
        "      time_elapsed = time.time() - since\n",
        "      print('Epoch {}/{}'.format(epoch+1, epochs),\n",
        "            'Train loss: {:.4f}'.format(train_loss),\n",
        "            'Valid loss: {:.4f}'.format(valid_loss),\n",
        "            'Train lossb: {:.4f}'.format(train_lossb),\n",
        "            'Valid lossb: {:.4f}'.format(valid_lossb),\n",
        "            'Time: {:.0f}m {:.0f}s'.format(time_elapsed // 60, time_elapsed % 60))\n"
      ]
    },
    {
      "cell_type": "code",
      "execution_count": null,
      "metadata": {},
      "outputs": [],
      "source": []
    }
  ],
  "metadata": {
    "accelerator": "GPU",
    "colab": {
      "gpuType": "T4",
      "provenance": []
    },
    "kernelspec": {
      "display_name": "Python 3",
      "name": "python3"
    },
    "language_info": {
      "codemirror_mode": {
        "name": "ipython",
        "version": 3
      },
      "file_extension": ".py",
      "mimetype": "text/x-python",
      "name": "python",
      "nbconvert_exporter": "python",
      "pygments_lexer": "ipython3",
      "version": "3.10.13"
    }
  },
  "nbformat": 4,
  "nbformat_minor": 0
}
